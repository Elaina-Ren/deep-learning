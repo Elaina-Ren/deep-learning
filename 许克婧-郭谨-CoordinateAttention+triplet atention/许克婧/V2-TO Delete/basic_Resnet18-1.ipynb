{
  "nbformat": 4,
  "nbformat_minor": 0,
  "metadata": {
    "colab": {
      "provenance": [],
      "gpuType": "T4"
    },
    "kernelspec": {
      "name": "python3",
      "display_name": "Python 3"
    },
    "language_info": {
      "name": "python"
    },
    "accelerator": "GPU",
    "gpuClass": "standard"
  },
  "cells": [
    {
      "cell_type": "code",
      "execution_count": null,
      "metadata": {
        "id": "Dcl6VOdeVKyH"
      },
      "outputs": [],
      "source": [
        "#超参数定义\n"
      ]
    },
    {
      "cell_type": "markdown",
      "source": [
        "# 完整代码"
      ],
      "metadata": {
        "id": "Rdw5-Vihgv4J"
      }
    },
    {
      "cell_type": "code",
      "source": [],
      "metadata": {
        "id": "rdt5J1Nug8DX"
      },
      "execution_count": null,
      "outputs": []
    },
    {
      "cell_type": "code",
      "source": [
        "import torch\n",
        "import torchvision\n",
        "import torchvision.transforms as transforms\n",
        "\n",
        "if torch.cuda.is_available():\n",
        "    device = torch.device('cuda')\n",
        "else:\n",
        "    device = torch.device('cpu')\n",
        "    \n",
        "print('Using PyTorch version:', torch.__version__, ' Device:', device)\n",
        "\n",
        "\n",
        "#1.load data\n",
        "#TODO 进行数据增强跑起来试试看！！！\n",
        "transform = transforms.Compose(\n",
        "    [transforms.ToTensor(),\n",
        "     transforms.Normalize((0.5, 0.5, 0.5), (0.5, 0.5, 0.5))])\n",
        "\n",
        "batch_size = 128\n",
        "\n",
        "#这是已经划分好训练和测试数据集了的\n",
        "trainset = torchvision.datasets.CIFAR100(root='/content/drive/MyDrive/DeepLearnning/FinalPro/cifar-100-python', train=True,\n",
        "                                        download=True, transform=transform)\n",
        "trainloader = torch.utils.data.DataLoader(trainset, batch_size=batch_size,\n",
        "                                          shuffle=True, num_workers=2)\n",
        "\n",
        "testset = torchvision.datasets.CIFAR100(root='/content/drive/MyDrive/DeepLearnning/FinalPro/cifar-100-python', train=False,\n",
        "                                       download=True, transform=transform)\n",
        "testloader = torch.utils.data.DataLoader(testset, batch_size=batch_size,\n",
        "                                         shuffle=False, num_workers=2)\n",
        "\n",
        "classes = {19: 'cattle', 29: 'dinosaur', 0: 'apple', 11: 'boy', 1: 'aquarium_fish', 86: 'telephone',\n",
        "           90: 'train', 28: 'cup', 23: 'cloud', 31: 'elephant', 39: 'keyboard', 96: 'willow_tree', \n",
        "           82: 'sunflower', 17: 'castle', 71: 'sea', 8: 'bicycle', 97: 'wolf', 80: 'squirrel', \n",
        "           74: 'shrew', 59: 'pine_tree', 70: 'rose', 87: 'television', 84: 'table', 64: 'possum', \n",
        "           52: 'oak_tree', 42: 'leopard', 47: 'maple_tree', 65: 'rabbit', 21: 'chimpanzee', \n",
        "           22: 'clock', 81: 'streetcar', 24: 'cockroach', 78: 'snake', 45: 'lobster', 49: 'mountain', \n",
        "           56: 'palm_tree', 76: 'skyscraper', 89: 'tractor', 73: 'shark', 14: 'butterfly', 9: 'bottle', \n",
        "           6: 'bee', 20: 'chair', 98: 'woman', 36: 'hamster', 55: 'otter', 72: 'seal', 43: 'lion', 51: 'mushroom', \n",
        "           35: 'girl', 83: 'sweet_pepper', 33: 'forest', 27: 'crocodile', 53: 'orange', 92: 'tulip', 50: 'mouse', \n",
        "           15: 'camel', 18: 'caterpillar', 46: 'man', 75: 'skunk', 38: 'kangaroo', 66: 'raccoon', 77: 'snail', \n",
        "           69: 'rocket', 95: 'whale', 99: 'worm', 93: 'turtle', 4: 'beaver', 61: 'plate', 94: 'wardrobe', 68: 'road', \n",
        "           34: 'fox', 32: 'flatfish', 88: 'tiger', 67: 'ray', 30: 'dolphin', 62: 'poppy', 63: 'porcupine', 40: 'lamp', \n",
        "           26: 'crab', 48: 'motorcycle', 79: 'spider', 85: 'tank', 54: 'orchid', 44: 'lizard', 7: 'beetle', 12: 'bridge', \n",
        "           2: 'baby', 41: 'lawn_mower', 37: 'house', 13: 'bus', 25: 'couch', 10: 'bowl', 57: 'pear', 5: 'bed', \n",
        "           60: 'plain', 91: 'trout', 3: 'bear', 58: 'pickup_truck', 16: 'can'}"
      ],
      "metadata": {
        "id": "TDc0Irkjvumk",
        "colab": {
          "base_uri": "https://localhost:8080/"
        },
        "outputId": "12f59a93-441b-406f-e405-7a6add2284eb"
      },
      "execution_count": 15,
      "outputs": [
        {
          "output_type": "stream",
          "name": "stdout",
          "text": [
            "Using PyTorch version: 2.0.0+cu118  Device: cuda\n",
            "Downloading https://www.cs.toronto.edu/~kriz/cifar-100-python.tar.gz to /content/drive/MyDrive/DeepLearnning/FinalPro/cifar-100-python/cifar-100-python.tar.gz\n"
          ]
        },
        {
          "output_type": "stream",
          "name": "stderr",
          "text": [
            "100%|██████████| 169001437/169001437 [00:02<00:00, 74624254.22it/s]\n"
          ]
        },
        {
          "output_type": "stream",
          "name": "stdout",
          "text": [
            "Extracting /content/drive/MyDrive/DeepLearnning/FinalPro/cifar-100-python/cifar-100-python.tar.gz to /content/drive/MyDrive/DeepLearnning/FinalPro/cifar-100-python\n",
            "Files already downloaded and verified\n"
          ]
        }
      ]
    },
    {
      "cell_type": "code",
      "source": [
        "import torch.nn as nn\n",
        "import torch.nn.functional as F\n",
        "\n",
        "#残差块\n",
        "#TODO 看具体残差块含义\n",
        "class BasicBlock(nn.Module):\n",
        "    expansion = 1\n",
        "\n",
        "    def __init__(self, in_channel, out_channel, stride=1):\n",
        "        super(BasicBlock, self).__init__()\n",
        "        self.conv1 = nn.Conv2d(in_channel, out_channel, kernel_size=3,\n",
        "                               stride=stride, padding=1, bias=False)\n",
        "        self.bn1 = nn.BatchNorm2d(out_channel)\n",
        "        self.conv2 = nn.Conv2d(out_channel, out_channel, kernel_size=3,\n",
        "                               stride=1, padding=1, bias=False)\n",
        "        self.bn2 = nn.BatchNorm2d(out_channel)\n",
        "        self.shortcut = nn.Sequential()\n",
        "\n",
        "        if stride != 1 or in_channel != self.expansion * out_channel:\n",
        "            self.shortcut = nn.Sequential(\n",
        "                nn.Conv2d(in_channel, self.expansion * out_channel,\n",
        "                          kernel_size=1, stride=stride, bias=False),\n",
        "                nn.BatchNorm2d(self.expansion * out_channel)\n",
        "            )\n",
        "\n",
        "    def forward(self, x):\n",
        "        out = F.relu(self.bn1(self.conv1(x)))\n",
        "        out = self.bn2(self.conv2(out))\n",
        "        out += self.shortcut(x)\n",
        "        out = F.relu(out)\n",
        "        return out"
      ],
      "metadata": {
        "id": "AX6rcbuyv3Zl"
      },
      "execution_count": 16,
      "outputs": []
    },
    {
      "cell_type": "code",
      "source": [
        "class Net(nn.Module):\n",
        "    def __init__(self, block, num_blocks, num_classes=100):\n",
        "        super(Net, self).__init__()\n",
        "        self.in_channel = 64\n",
        "\n",
        "        self.conv1 = nn.Conv2d(3, 64, kernel_size=3,\n",
        "                               stride=1, padding=1, bias=False)\n",
        "        self.bn1 = nn.BatchNorm2d(64)\n",
        "\n",
        "        self.layer1 = self.make_layer(block, 64, num_blocks[0], stride=1)\n",
        "        self.layer2 = self.make_layer(block, 128, num_blocks[1], stride=2)\n",
        "        self.layer3 = self.make_layer(block, 256, num_blocks[2], stride=2)\n",
        "        self.layer4 = self.make_layer(block, 512, num_blocks[3], stride=2)\n",
        "        self.linear = nn.Linear(512 * block.expansion, num_classes)\n",
        "\n",
        "    def make_layer(self, block, out_channel, num_blocks, stride):\n",
        "        strides = [stride] + (num_blocks - 1) * [1]\n",
        "        layers = []\n",
        "        for stride in strides:\n",
        "            layers.append(block(self.in_channel, out_channel, stride))\n",
        "            self.in_channel = out_channel * block.expansion\n",
        "        return nn.Sequential(*layers)\n",
        "\n",
        "    def forward(self, x):\n",
        "        out = F.relu(self.bn1(self.conv1(x)))\n",
        "        out = self.layer1(out)\n",
        "        out = self.layer2(out)\n",
        "        out = self.layer3(out)\n",
        "        out = self.layer4(out)\n",
        "        out = F.avg_pool2d(out, 4)\n",
        "        out = out.view(out.size(0), -1)\n",
        "        out = self.linear(out)\n",
        "        return out\n",
        "\n",
        "#超参都可以改！！！\n",
        "def ResNet():\n",
        "    return Net(BasicBlock, [2, 2, 2,2])#4个残差块？？？\n",
        "\n",
        "\n",
        "net = ResNet().to(device)\n",
        "\n",
        "#一些超参\n",
        "import torch.optim as optim\n",
        "\n",
        "criterion = nn.CrossEntropyLoss()\n",
        "optimizer = optim.SGD(net.parameters(), lr=0.001, momentum=0.9)\n"
      ],
      "metadata": {
        "id": "bjsw_Rhq4yie"
      },
      "execution_count": 17,
      "outputs": []
    },
    {
      "cell_type": "code",
      "source": [
        "#注意注意注意： 每次运行这里时 先把前面的above都运行一遍！！！--》即使值改动了epoch 前面的也得执行一遍！！！\n",
        "def validate(loss_vector, accuracy_vector):\n",
        "    net.eval()\n",
        "    total = 0\n",
        "    val_loss, correct = 0, 0\n",
        "    for data, target in testloader:\n",
        "        data = data.to(device)\n",
        "        target = target.to(device)\n",
        "        output = net(data)\n",
        "        val_loss += criterion(output, target).data.item()\n",
        "        _, predicted = torch.max(output.data, 1)\n",
        "        correct += (predicted == target).sum().item()\n",
        "        total += target.size(0)#total就是一个 总数...\n",
        "\n",
        "    val_loss /= total\n",
        "    loss_vector.append(val_loss)\n",
        "\n",
        "    accuracy = 100 * correct / total\n",
        "    accuracy_vector.append(accuracy)\n",
        "\n",
        "    print('\\nValidation set: Average loss: {:.4f}, Accuracy: {}/{} ({:.0f}%)\\n'.format(\n",
        "        val_loss, correct, total, accuracy))\n",
        "       \n",
        "#开始训练 \n",
        "lossv, accv = [], []\n",
        "\n",
        "epochs = 5#可调整--这里可以变成train函数\n",
        "#train\n",
        "for epoch in range(epochs):  # loop over the dataset multiple times\n",
        "    \n",
        "\n",
        "    running_loss = 0.0\n",
        "    for i, data in enumerate(trainloader, 0):\n",
        "        # get the inputs; data is a list of [inputs, labels]\n",
        "        inputs, labels = data\n",
        "        inputs = inputs.to(device)\n",
        "        labels = labels.to(device)\n",
        "\n",
        "        # zero the parameter gradients\n",
        "        optimizer.zero_grad()\n",
        "\n",
        "        # forward + backward + optimize\n",
        "        outputs = net(inputs)\n",
        "        loss = criterion(outputs, labels)\n",
        "        loss.backward()\n",
        "        optimizer.step()\n",
        "\n",
        "        # print statistics\n",
        "        running_loss += loss.item()\n",
        "        if i % 50 == 49:    # print every 2000 mini-batches\n",
        "            print(f'[{epoch+1}, {i+1:5d}] loss: {running_loss / 2000:.3f}')\n",
        "            running_loss = 0.0\n",
        "    validate(lossv, accv)\n",
        "print('Training Finished')"
      ],
      "metadata": {
        "colab": {
          "base_uri": "https://localhost:8080/"
        },
        "id": "HyUVHSLyJumX",
        "outputId": "cd54bcfe-52b2-45a1-dee6-be39facad818"
      },
      "execution_count": 19,
      "outputs": [
        {
          "output_type": "stream",
          "name": "stdout",
          "text": [
            "[1,    50] loss: 0.089\n",
            "[1,   100] loss: 0.089\n",
            "[1,   150] loss: 0.087\n",
            "[1,   200] loss: 0.087\n",
            "[1,   250] loss: 0.085\n",
            "[1,   300] loss: 0.084\n",
            "[1,   350] loss: 0.083\n",
            "\n",
            "Validation set: Average loss: 0.0256, Accuracy: 2153/10000 (22%)\n",
            "\n",
            "[2,    50] loss: 0.080\n",
            "[2,   100] loss: 0.078\n",
            "[2,   150] loss: 0.078\n",
            "[2,   200] loss: 0.075\n",
            "[2,   250] loss: 0.075\n",
            "[2,   300] loss: 0.075\n",
            "[2,   350] loss: 0.074\n",
            "\n",
            "Validation set: Average loss: 0.0232, Accuracy: 2699/10000 (27%)\n",
            "\n",
            "[3,    50] loss: 0.069\n",
            "[3,   100] loss: 0.070\n",
            "[3,   150] loss: 0.071\n",
            "[3,   200] loss: 0.068\n",
            "[3,   250] loss: 0.068\n",
            "[3,   300] loss: 0.066\n",
            "[3,   350] loss: 0.067\n",
            "\n",
            "Validation set: Average loss: 0.0213, Accuracy: 3136/10000 (31%)\n",
            "\n",
            "[4,    50] loss: 0.063\n",
            "[4,   100] loss: 0.062\n",
            "[4,   150] loss: 0.062\n",
            "[4,   200] loss: 0.060\n",
            "[4,   250] loss: 0.061\n",
            "[4,   300] loss: 0.060\n",
            "[4,   350] loss: 0.060\n",
            "\n",
            "Validation set: Average loss: 0.0200, Accuracy: 3533/10000 (35%)\n",
            "\n",
            "[5,    50] loss: 0.056\n",
            "[5,   100] loss: 0.054\n",
            "[5,   150] loss: 0.055\n",
            "[5,   200] loss: 0.054\n",
            "[5,   250] loss: 0.054\n",
            "[5,   300] loss: 0.054\n",
            "[5,   350] loss: 0.055\n",
            "\n",
            "Validation set: Average loss: 0.0183, Accuracy: 3990/10000 (40%)\n",
            "\n",
            "Training Finished\n"
          ]
        }
      ]
    },
    {
      "cell_type": "code",
      "source": [
        "import matplotlib.pyplot as plt\n",
        "import numpy as np\n",
        "\n",
        "plt.figure(figsize=(5,3))\n",
        "plt.plot(np.arange(1,epochs+1), lossv)\n",
        "plt.title('validation loss,epoch=%s'%epochs)\n",
        "\n",
        "plt.figure(figsize=(5,3))\n",
        "plt.plot(np.arange(1,epochs+1), accv)\n",
        "plt.title('validation accuracy,epoch=%s'%epochs)"
      ],
      "metadata": {
        "id": "vVdxQbWO6KGm",
        "colab": {
          "base_uri": "https://localhost:8080/",
          "height": 629
        },
        "outputId": "21cc353e-cfab-46d3-ed9f-7ccab3045e1a"
      },
      "execution_count": null,
      "outputs": [
        {
          "output_type": "execute_result",
          "data": {
            "text/plain": [
              "Text(0.5, 1.0, 'validation accuracy,epoch=5')"
            ]
          },
          "metadata": {},
          "execution_count": 6
        },
        {
          "output_type": "display_data",
          "data": {
            "text/plain": [
              "<Figure size 500x300 with 1 Axes>"
            ],
            "image/png": "[encoded data removed]"
          },
          "metadata": {}
        },
        {
          "output_type": "display_data",
          "data": {
            "text/plain": [
              "<Figure size 500x300 with 1 Axes>"
            ],
            "image/png": "[encoded data removed]"
          },
          "metadata": {}
        }
      ]
    }
  ]
}